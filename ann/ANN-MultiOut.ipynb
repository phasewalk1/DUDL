{
 "cells": [
  {
   "cell_type": "code",
   "execution_count": 1,
   "metadata": {},
   "outputs": [],
   "source": [
    "import torch\n",
    "import torch.nn as nn\n",
    "import numpy as np\n",
    "import matplotlib.pyplot as plt"
   ]
  },
  {
   "attachments": {},
   "cell_type": "markdown",
   "metadata": {},
   "source": [
    "# What We're Building\n",
    "$$\\underbrace{\\mathbb{R}_4}_{\\text{Input layer}}\\xrightarrow{}\\underbrace{\\mathbb{R}_{64}}_{\\text{Hidden layer }h_1}\\xrightarrow{}\\underbrace{\\mathbb{R}_{64}}_{\\text{Hidden layer }h_2}\\xrightarrow{}\\underbrace{\\mathbb{R}_3}_{\\text{Output layer}}$$\n",
    "\n",
    "<img src=\"../etc/multi-out-arch.svg\" width=\"1200\" height=\"700\" style=\"display: block; margin: auto;\">\n",
    "\n",
    "## Terminology\n",
    "> __Fully connected__ means that each node in layer $n$ projects to each node in layer $n+1$. Each connection has its own weight.\n",
    "\n",
    "## Softmax'ing the Outputs\n",
    "Applying the sigmoid function $\\forall\\in\\mathbb{R}_3$ would cause us to obtain _isolated_ probabilities, e.g., not a probabilitiy distribution over all predicted classes. Therefore the output vectors don't add up to 1, e.g. $\\sum \\mathbb{R}_3\\ne 1$. For this reason, we pass the raw outputs from $\\mathbb{R}_3$ through the _softmax_ function instead.\n",
    "> The _softmax_ function\n",
    "$$\\sigma_i=\\frac{e^{z_i}}{\\sum e^z}$$\n",
    "* With softmax\n",
    "    $\\sum\\mathbb{R}_3=1$\n",
    "\n",
    "Thus, we can summarize the forward phase (from $\\mathbb{R}_3$ to finality) as:\n",
    "$$\\mathbb{R}_3\\xrightarrow{}\\sigma\\xrightarrow{}\\begin{pmatrix}\\hat y_1 \\\\ \\hat y_2 \\\\ \\hat y_3\\end{pmatrix}$$\n",
    "where $\\sigma$ is the _softmax_ function and $\\sum\\begin{pmatrix}\\hat y_1 \\\\ \\hat y_2 \\\\ \\hat y_3\\end{pmatrix}\\equiv1$."
   ]
  }
 ],
 "metadata": {
  "kernelspec": {
   "display_name": "Python 3",
   "language": "python",
   "name": "python3"
  },
  "language_info": {
   "codemirror_mode": {
    "name": "ipython",
    "version": 3
   },
   "file_extension": ".py",
   "mimetype": "text/x-python",
   "name": "python",
   "nbconvert_exporter": "python",
   "pygments_lexer": "ipython3",
   "version": "3.10.6"
  },
  "orig_nbformat": 4,
  "vscode": {
   "interpreter": {
    "hash": "916dbcbb3f70747c44a77c7bcd40155683ae19c65e1c03b4aa3499c5328201f1"
   }
  }
 },
 "nbformat": 4,
 "nbformat_minor": 2
}
